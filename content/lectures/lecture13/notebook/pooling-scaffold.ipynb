{
 "cells": [
  {
   "cell_type": "markdown",
   "metadata": {},
   "source": [
    "## Title :\n",
    "Pooling Mechanics\n",
    "\n",
    "## Description :\n",
    "The aim of this exercise is to understand the tensorflow.keras implementation of: \n",
    "1. Max Pooling \n",
    "2. Average Pooling\n",
    "\n",
    "<img src=\"../fig/fig1.png\" style=\"width: 500px;\">\n",
    "\n",
    "## Instructions:\n",
    "\n",
    "- First, implement `Max Pooling` by building a model with a single MaxPooling2D layer. Print the output of this layer by using `model.predict()` to show the output.\n",
    "- Next, implement `Average Pooling` by building a model with a single AvgPooling2D layer. Print the output of this layer by using `model.predict()` to show the output.\n",
    "\n",
    "## Hints: \n",
    "\n",
    "<a href=\"https://keras.io/api/layers/pooling_layers/max_pooling2d/\" target=\"_blank\">tf.keras.layers.MaxPooling2D()</a>\n",
    "Max pooling operation for 2D spatial data.\n",
    "\n",
    "<a href=\"https://www.tensorflow.org/api_docs/python/tf/keras/layers/AveragePooling2D\" target=\"_blank\">tf.keras.layers.AveragePooling2D()</a>\n",
    "Average pooling operation for spatial data.\n",
    "\n",
    "<a href=\"https://numpy.org/doc/stable/reference/generated/numpy.squeeze.html\" target=\"_blank\">np.squeeze()</a>\n",
    "Remove single-dimensional entries from the shape of an array.\n",
    "\n",
    "<a href=\"https://numpy.org/doc/stable/reference/generated/numpy.expand_dims.html\" target=\"_blank\">np.expand_dims()</a>\n",
    "Add single-dimensional entries from the shape of an array.\n",
    "\n",
    "Example: np.expand_dims (img, axis=(0,3))"
   ]
  },
  {
   "cell_type": "code",
   "execution_count": 1,
   "metadata": {},
   "outputs": [],
   "source": [
    "# Import necessary libraries \n",
    "import matplotlib.pyplot as plt\n",
    "import numpy as np\n",
    "import tensorflow as tf\n",
    "from tensorflow.keras.models import Sequential\n",
    "from tensorflow.keras.layers import MaxPool2D,AveragePooling2D,Input\n",
    "from helper import plot_pool\n"
   ]
  },
  {
   "cell_type": "code",
   "execution_count": 20,
   "metadata": {},
   "outputs": [],
   "source": [
    "# Load the 7x7 mnist image \n",
    "img = np.load('3.npy')\n",
    "plt.imshow(img,cmap = 'bone', alpha=0.5);\n",
    "plt.axis('off');\n",
    "plt.title('MNIST image of 3',fontsize=20);"
   ]
  },
  {
   "cell_type": "markdown",
   "metadata": {},
   "source": [
    "### ⏸ Consider an input of size $(7,7)$ pixels.What will be the dimensions of the output if you use `pool_size=2`, `strides = 1` & `padding='valid'`?\n",
    "\n",
    "\n",
    "#### A. $(5,5)$\n",
    "#### B. $(6,6)$\n",
    "#### C. $(4,4)$\n",
    "#### D. $(7,7)$"
   ]
  },
  {
   "cell_type": "code",
   "execution_count": 0,
   "metadata": {},
   "outputs": [],
   "source": [
    "### edTest(test_chow1) ###\n",
    "# Submit an answer choice as a string below (eg. if you choose option C, put 'C')\n",
    "answer1 = '___'"
   ]
  },
  {
   "cell_type": "markdown",
   "metadata": {},
   "source": [
    "## Max Pooling"
   ]
  },
  {
   "cell_type": "code",
   "execution_count": 16,
   "metadata": {},
   "outputs": [],
   "source": [
    "# Specify the variables for pooling \n",
    "pool_size = ___\n",
    "strides = ___\n",
    "\n",
    "# Padding parameter can be 'valid', 'same', etc.\n",
    "padding = '___'\n",
    "\n",
    "# Build the model to perform maxpooling operation \n",
    "model_1 = Sequential(name = 'MaxPool')\n",
    "model_1.add(Input(shape = np.expand_dims(img,axis=2).shape))\n",
    "model_1.add(MaxPool2D(pool_size = pool_size,strides=strides, padding=padding))\n",
    "\n",
    "# Take a look at the summary to see the output shape\n",
    "model_1.summary()"
   ]
  },
  {
   "cell_type": "code",
   "execution_count": 17,
   "metadata": {},
   "outputs": [],
   "source": [
    "# Output the image using the model above \n",
    "# Remember to use np.expand_dims to change input image dimensions\n",
    "# to 4-d tensor because model_1.predict will not work on 2-d tensor\n",
    "pooled_img = model_1.predict(___)\n",
    "\n",
    "\n",
    "# Use the helper code to visualize the pooling operation \n",
    "# np.squeeze() is used to bring the image to 2-dimension \n",
    "# to use matplotlib to plot it\n",
    "pooled_img = pooled_img.squeeze()\n",
    "\n",
    "# plot_pool is a function that will return 3 plots to help visualize\n",
    "# the pooling operation\n",
    "plot_pool(img,pooled_img)"
   ]
  },
  {
   "cell_type": "markdown",
   "metadata": {},
   "source": [
    "### ⏸ What if your stride is larger than your pool size?\n",
    "\n",
    "\n",
    "#### A. Operation is invalid\n",
    "#### B. Operation is valid but you will have an output larger than the input\n",
    "#### C. Operation is valid but you will miss out on some pixels\n",
    "#### D. Operation is valid but you will have an output as the same size as the input"
   ]
  },
  {
   "cell_type": "code",
   "execution_count": 0,
   "metadata": {},
   "outputs": [],
   "source": [
    "### edTest(test_chow2) ###\n",
    "# Submit an answer choice as a string below \n",
    "# (eg. if you choose option C, put 'C')\n",
    "answer2 = '___'"
   ]
  },
  {
   "cell_type": "markdown",
   "metadata": {},
   "source": [
    "## Average Pooling"
   ]
  },
  {
   "cell_type": "code",
   "execution_count": 18,
   "metadata": {},
   "outputs": [],
   "source": [
    "# Specify the variables for pooling \n",
    "pool_size = ___\n",
    "strides = ___\n",
    "\n",
    "# Padding parameter can be 'valid', 'same', etc.\n",
    "padding = '___'\n",
    "\n",
    "# Build the model to perform average pooling operation \n",
    "model_2 = Sequential(name = 'AveragePool')\n",
    "model_2.add(Input(shape = np.expand_dims(img,axis=2).shape))\n",
    "model_2.add(AveragePooling2D(pool_size = pool_size,strides=strides, padding=padding))\n",
    "model_2.summary()"
   ]
  },
  {
   "cell_type": "code",
   "execution_count": 19,
   "metadata": {},
   "outputs": [],
   "source": [
    "# Output the image using the model above \n",
    "# Remember to use np.expand_dims to change input image dimensions\n",
    "# to 4-d tensor because model_1.predict will not work on 2-d tensor\n",
    "pooled_img = model_2.predict(___)\n",
    "\n",
    "\n",
    "# Use the helper code to visualize the pooling operation \n",
    "pooled_img = pooled_img.squeeze()\n",
    "plot_pool(img,pooled_img)"
   ]
  },
  {
   "cell_type": "markdown",
   "metadata": {},
   "source": [
    "### ⏸ Which among the following 2 pooling operation activates the input image more? Answer based on your results above.\n",
    "#### A.  Average pooling\n",
    "#### B.  Max pooling"
   ]
  },
  {
   "cell_type": "code",
   "execution_count": 1,
   "metadata": {},
   "outputs": [],
   "source": [
    "### edTest(test_chow3) ###\n",
    "# Submit an answer choice as a string below \n",
    "# (eg. if you choose option A, put 'a')\n",
    "answer3 = '___'"
   ]
  }
 ],
 "metadata": {
  "kernelspec": {
   "display_name": "Python 3 (ipykernel)",
   "language": "python",
   "name": "python3"
  },
  "language_info": {
   "codemirror_mode": {
    "name": "ipython",
    "version": 3
   },
   "file_extension": ".py",
   "mimetype": "text/x-python",
   "name": "python",
   "nbconvert_exporter": "python",
   "pygments_lexer": "ipython3",
   "version": "3.8.5"
  }
 },
 "nbformat": 4,
 "nbformat_minor": 4
}
